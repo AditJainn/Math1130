{
 "cells": [
  {
   "cell_type": "code",
   "execution_count": 1,
   "metadata": {},
   "outputs": [],
   "source": [
    "# Load packages\n",
    "import os\n",
    "import pandas as pd\n",
    "import numpy as np\n",
    " # Required for basic python plotting functionality\n",
    "import matplotlib.pyplot as plt\n",
    "# Required for formatting dates later in the case\n",
    "import datetime\n",
    "import matplotlib.dates as mdates\n",
    "# Advanced plotting functionality with seaborn\n",
    "import seaborn as sns\n",
    "\n",
    "sns.set(style=\"whitegrid\")  # can set style depending on how you'd like it to look\n",
    "# Load the data into python\n",
    "energy_consumption_file = os.path.join(os.getcwd(), \"./districts_info.csv\")\n",
    "# electricity_generation_file = os.path.join(\n",
    "#     os.getcwd(), \"data/electricity_generation.csv\"\n",
    "# )\n",
    "# print(energy_consumption_file)\n",
    "energy_df = pd.read_csv(energy_consumption_file)\n",
    "\n",
    "temp1 = os.path.join(os.getcwd(), \"./engagement_data/1000.csv\")\n",
    "# electricity_generation_file = os.path.join(\n",
    "#     os.getcwd(), \"data/electricity_generation.csv\"\n",
    "# )\n",
    "# print(energy_consumption_file)\n",
    "otherDF = pd.read_csv(temp1)\n",
    "# electricity_df = pd.read_csv(electricity_generation_file)"
   ]
  },
  {
   "cell_type": "code",
   "execution_count": 2,
   "metadata": {},
   "outputs": [],
   "source": [
    "# Get data\n",
    "discritDF = os.path.join(os.getcwd(), \"./districts_info.csv\")\n",
    "discritDF = pd.read_csv(discritDF)\n",
    "\n",
    "engagmentDF = os.path.join(os.getcwd(), \"./engagement_data/1000.csv\")\n",
    "engagmentDF = pd.read_csv(engagmentDF)\n",
    "\n",
    "productInfoDF = os.path.join(os.getcwd(), \"./products_info.csv\")\n",
    "\n",
    "productInfoDF = pd.read_csv(productInfoDF)"
   ]
  },
  {
   "attachments": {},
   "cell_type": "markdown",
   "metadata": {},
   "source": [
    "<h1>Begining of Preprocessing Data</h1>"
   ]
  },
  {
   "cell_type": "code",
   "execution_count": 17,
   "metadata": {},
   "outputs": [],
   "source": [
    "def preProcessingData():\n",
    "    policyDataFrame = os.path.join(os.getcwd(), \"./COVID-19 US state policy 3_29_2021.csv\")\n",
    "    policyDataFrame = pd.read_csv(policyDataFrame)\n",
    "    originalStateColumn = policyDataFrame[\"STATE\"]\n",
    "    policyDataFrame = policyDataFrame.T\n",
    "    dfs = [x for _, x in policyDataFrame.groupby(1)] # this allowed me to make 26 different series so i can take a look at each category carefully \n",
    "    listofDfs = []\n",
    "    for miniDf in dfs: # This put the category description back \n",
    "        tempdf = miniDf.T\n",
    "        tempdf[\"STATE\"] = originalStateColumn\n",
    "        listofDfs.append(tempdf)\n",
    "    return listofDfs\n",
    "    for k in range (0, len(listofDfs)): # This allowed me to parse through each category dataframe to inspect it without having to save it onto my hard-drive giving me O(1) Space :) \n",
    "        temp = pd.DataFrame(listofDfs[k].iloc[0])\n",
    "        print(listofDfs[k].T.reset_index()) \n",
    "def getMeDataFrame(k :int  , listofDfs : pd.DataFrame):\n",
    "    temp = pd.DataFrame(listofDfs[k].iloc[0])\n",
    "    return listofDfs[k].T.reset_index()\n",
    "    print(listofDfs[k].T.reset_index()) \n"
   ]
  },
  {
   "cell_type": "code",
   "execution_count": 23,
   "metadata": {},
   "outputs": [
    {
     "data": {
      "text/html": [
       "<div>\n",
       "<style scoped>\n",
       "    .dataframe tbody tr th:only-of-type {\n",
       "        vertical-align: middle;\n",
       "    }\n",
       "\n",
       "    .dataframe tbody tr th {\n",
       "        vertical-align: top;\n",
       "    }\n",
       "\n",
       "    .dataframe thead th {\n",
       "        text-align: right;\n",
       "    }\n",
       "</style>\n",
       "<table border=\"1\" class=\"dataframe\">\n",
       "  <thead>\n",
       "    <tr style=\"text-align: right;\">\n",
       "      <th></th>\n",
       "      <th>index</th>\n",
       "      <th>0</th>\n",
       "      <th>1</th>\n",
       "      <th>2</th>\n",
       "      <th>3</th>\n",
       "      <th>4</th>\n",
       "      <th>5</th>\n",
       "      <th>6</th>\n",
       "      <th>7</th>\n",
       "      <th>8</th>\n",
       "      <th>...</th>\n",
       "      <th>47</th>\n",
       "      <th>48</th>\n",
       "      <th>49</th>\n",
       "      <th>50</th>\n",
       "      <th>51</th>\n",
       "      <th>52</th>\n",
       "      <th>53</th>\n",
       "      <th>54</th>\n",
       "      <th>55</th>\n",
       "      <th>56</th>\n",
       "    </tr>\n",
       "  </thead>\n",
       "  <tbody>\n",
       "    <tr>\n",
       "      <th>0</th>\n",
       "      <td>CLBAR3</td>\n",
       "      <td>Close Bars (x3)</td>\n",
       "      <td>third_closures</td>\n",
       "      <td>start</td>\n",
       "      <td>date</td>\n",
       "      <td>0</td>\n",
       "      <td>0</td>\n",
       "      <td>0</td>\n",
       "      <td>0</td>\n",
       "      <td>0</td>\n",
       "      <td>...</td>\n",
       "      <td>0</td>\n",
       "      <td>0</td>\n",
       "      <td>0</td>\n",
       "      <td>0</td>\n",
       "      <td>0</td>\n",
       "      <td>0</td>\n",
       "      <td>0</td>\n",
       "      <td>0</td>\n",
       "      <td>NaN</td>\n",
       "      <td>NaN</td>\n",
       "    </tr>\n",
       "    <tr>\n",
       "      <th>1</th>\n",
       "      <td>CLRST3</td>\n",
       "      <td>Close Indoor Dining (x3)</td>\n",
       "      <td>third_closures</td>\n",
       "      <td>start</td>\n",
       "      <td>date</td>\n",
       "      <td>0</td>\n",
       "      <td>0</td>\n",
       "      <td>0</td>\n",
       "      <td>0</td>\n",
       "      <td>0</td>\n",
       "      <td>...</td>\n",
       "      <td>0</td>\n",
       "      <td>0</td>\n",
       "      <td>0</td>\n",
       "      <td>0</td>\n",
       "      <td>0</td>\n",
       "      <td>0</td>\n",
       "      <td>0</td>\n",
       "      <td>0</td>\n",
       "      <td>NaN</td>\n",
       "      <td>NaN</td>\n",
       "    </tr>\n",
       "    <tr>\n",
       "      <th>2</th>\n",
       "      <td>END_CLRST3</td>\n",
       "      <td>Reopen Indoor Dining (x3)</td>\n",
       "      <td>third_closures</td>\n",
       "      <td>end</td>\n",
       "      <td>date</td>\n",
       "      <td>0</td>\n",
       "      <td>0</td>\n",
       "      <td>0</td>\n",
       "      <td>0</td>\n",
       "      <td>0</td>\n",
       "      <td>...</td>\n",
       "      <td>0</td>\n",
       "      <td>0</td>\n",
       "      <td>0</td>\n",
       "      <td>0</td>\n",
       "      <td>0</td>\n",
       "      <td>0</td>\n",
       "      <td>0</td>\n",
       "      <td>0</td>\n",
       "      <td>NaN</td>\n",
       "      <td>NaN</td>\n",
       "    </tr>\n",
       "    <tr>\n",
       "      <th>3</th>\n",
       "      <td>STATE</td>\n",
       "      <td>State</td>\n",
       "      <td>category</td>\n",
       "      <td>type</td>\n",
       "      <td>unit</td>\n",
       "      <td>Alabama</td>\n",
       "      <td>Alaska</td>\n",
       "      <td>Arizona</td>\n",
       "      <td>Arkansas</td>\n",
       "      <td>California</td>\n",
       "      <td>...</td>\n",
       "      <td>Texas</td>\n",
       "      <td>Utah</td>\n",
       "      <td>Vermont</td>\n",
       "      <td>Virginia</td>\n",
       "      <td>Washington</td>\n",
       "      <td>West Virginia</td>\n",
       "      <td>Wisconsin</td>\n",
       "      <td>Wyoming</td>\n",
       "      <td>NaN</td>\n",
       "      <td>NaN</td>\n",
       "    </tr>\n",
       "  </tbody>\n",
       "</table>\n",
       "<p>4 rows × 58 columns</p>\n",
       "</div>"
      ],
      "text/plain": [
       "        index                          0               1      2     3  \\\n",
       "0      CLBAR3            Close Bars (x3)  third_closures  start  date   \n",
       "1      CLRST3   Close Indoor Dining (x3)  third_closures  start  date   \n",
       "2  END_CLRST3  Reopen Indoor Dining (x3)  third_closures    end  date   \n",
       "3       STATE                      State        category   type  unit   \n",
       "\n",
       "         4       5        6         7           8  ...     47    48       49  \\\n",
       "0        0       0        0         0           0  ...      0     0        0   \n",
       "1        0       0        0         0           0  ...      0     0        0   \n",
       "2        0       0        0         0           0  ...      0     0        0   \n",
       "3  Alabama  Alaska  Arizona  Arkansas  California  ...  Texas  Utah  Vermont   \n",
       "\n",
       "         50          51             52         53       54   55   56  \n",
       "0         0           0              0          0        0  NaN  NaN  \n",
       "1         0           0              0          0        0  NaN  NaN  \n",
       "2         0           0              0          0        0  NaN  NaN  \n",
       "3  Virginia  Washington  West Virginia  Wisconsin  Wyoming  NaN  NaN  \n",
       "\n",
       "[4 rows x 58 columns]"
      ]
     },
     "execution_count": 23,
     "metadata": {},
     "output_type": "execute_result"
    }
   ],
   "source": [
    "listofDfs = preProcessingData()\n",
    "arbitraryNum = 22\n",
    "getMeDataFrame(arbitraryNum,listofDfs) # This allowed me to parse through each category dataframe to inspect it without having to save it onto my hard-drive giving me O(1) Space :) \n"
   ]
  },
  {
   "attachments": {},
   "cell_type": "markdown",
   "metadata": {},
   "source": [
    "This Preprossing of data allowed us to get these following categories of interest\n",
    "- Reopening,food_security, masks,physical_distance_closure,physical_distance_closures,pre_covid_policy\n",
    "- population_density,quarantines,reopening,second_closures,shelter,state_characteristics, State of emergency issued\t\n",
    "\n",
    "Along with These topics within each category : \n",
    "- Category [minimum_wage] = MINWAGEJAN2020\tMINWAGEJUL2020\tMINWAGESEP2020\tMINWAGEOCT2020\tTIPMINWAGE2020 (currently not focusing on this)\n",
    "- Category [unemployment] = UIMAXDUR (currently not focusing on this)"
   ]
  },
  {
   "attachments": {},
   "cell_type": "markdown",
   "metadata": {},
   "source": [
    "<h1>End of pre-processing</h1>"
   ]
  },
  {
   "cell_type": "code",
   "execution_count": 61,
   "metadata": {},
   "outputs": [],
   "source": [
    "policyDataFrame = os.path.join(os.getcwd(), \"./COVID-19 US state policy 3_29_2021.csv\")\n",
    "policyDataFrame = pd.read_csv(policyDataFrame)\n",
    "categoriesOfInterest = [\"category\",\"Reopening\",\"food_security\", \"masks\",\"physical_distance_closure\",\"physical_distance_closures\",\"pre_covid_policy\"\n",
    "\"population_density\",\"quarantines\",\"reopening\",\"second_closures\",\"shelter,state_characteristics\", \"State of emergency issued\"]"
   ]
  },
  {
   "cell_type": "code",
   "execution_count": 62,
   "metadata": {},
   "outputs": [],
   "source": [
    "policyDataFrame= policyDataFrame.T[policyDataFrame.T[1].isin( categoriesOfInterest)].T\n",
    "policyDataFrame.drop([55, 56], inplace=True)"
   ]
  },
  {
   "cell_type": "code",
   "execution_count": null,
   "metadata": {},
   "outputs": [],
   "source": [
    "temp = pd.DataFrame(policyDataFrame.columns.tolist())\n",
    "temp[\"Yes/No\"] = np.nan\n",
    "# print(policyDataFrame.columns.tolist())"
   ]
  },
  {
   "cell_type": "code",
   "execution_count": null,
   "metadata": {},
   "outputs": [],
   "source": [
    "alice_columns = df.loc[:, df.iloc[0] == 'Alice']\n"
   ]
  },
  {
   "cell_type": "code",
   "execution_count": null,
   "metadata": {},
   "outputs": [],
   "source": [
    "# DifferentCategories = \n",
    "pd.DataFrame(policyDataFrame.iloc[1]).groupby(by=1).value_counts()\n",
    "\n"
   ]
  },
  {
   "cell_type": "code",
   "execution_count": null,
   "metadata": {},
   "outputs": [],
   "source": [
    "pd.DataFrame(DifferentCategories[1].unique())"
   ]
  },
  {
   "cell_type": "code",
   "execution_count": null,
   "metadata": {},
   "outputs": [],
   "source": [
    "Categories_of_interest = [0,1,2,]"
   ]
  },
  {
   "cell_type": "code",
   "execution_count": null,
   "metadata": {},
   "outputs": [],
   "source": [
    "policyDataFrame.loc[:, policyDataFrame.iloc[1] == 'state_of_emergency']\n",
    "\n"
   ]
  },
  {
   "cell_type": "code",
   "execution_count": null,
   "metadata": {},
   "outputs": [],
   "source": [
    "discritDF.shape\n",
    "discritDF.head()"
   ]
  },
  {
   "cell_type": "code",
   "execution_count": null,
   "metadata": {},
   "outputs": [],
   "source": [
    "engagmentDF.head()"
   ]
  },
  {
   "cell_type": "code",
   "execution_count": null,
   "metadata": {},
   "outputs": [],
   "source": [
    "productInfoDF.head()"
   ]
  },
  {
   "cell_type": "code",
   "execution_count": null,
   "metadata": {},
   "outputs": [],
   "source": [
    "(discritDF.shape)\n",
    "print(engagmentDF.shape)\n",
    "print(productInfoDF.shape)\n"
   ]
  },
  {
   "cell_type": "code",
   "execution_count": null,
   "metadata": {},
   "outputs": [],
   "source": [
    "stateDisc = discritDF[[\"state\",\"district_id\"]].groupby([\"state\"])[\"district_id\"].count().to_frame()"
   ]
  },
  {
   "cell_type": "code",
   "execution_count": null,
   "metadata": {},
   "outputs": [],
   "source": [
    "productInfoDF[\"Sector(s)\"].unique()"
   ]
  },
  {
   "cell_type": "code",
   "execution_count": null,
   "metadata": {},
   "outputs": [],
   "source": [
    "temp1 = os.path.join(os.getcwd(), \"./engagement_data/1000.csv\")\n",
    "engData1000 = pd.read_csv(temp1)\n",
    "\n",
    "temp2 = os.path.join(os.getcwd(), \"./engagement_data/1039.csv\")\n",
    "engData1039 = pd.read_csv(temp2)\n",
    "\n",
    "temp3 = os.path.join(os.getcwd(), \"./engagement_data/1044.csv\") \n",
    "engData1044 = pd.read_csv(temp3)"
   ]
  },
  {
   "cell_type": "code",
   "execution_count": null,
   "metadata": {},
   "outputs": [],
   "source": [
    "len(engData1000[\"time\"].unique())"
   ]
  },
  {
   "cell_type": "code",
   "execution_count": null,
   "metadata": {},
   "outputs": [],
   "source": [
    "productInfoDF[\"Primary Essential Function\"].unique()\n",
    "# LC = Learning & Curriculum,\n",
    "# CM = Classroom Management, \n",
    "# and SDO = School & District Operations. \n",
    "# Each of these categories have multiple sub-categories \n",
    "# with which the products were labeled |"
   ]
  },
  {
   "cell_type": "code",
   "execution_count": null,
   "metadata": {},
   "outputs": [],
   "source": [
    "temp4 = os.path.join(os.getcwd(), \"./engagement_data/8815.csv\") \n",
    "engData8815 = pd.read_csv(temp4)\n",
    "len(engData8815[\"time\"].unique())"
   ]
  },
  {
   "cell_type": "code",
   "execution_count": null,
   "metadata": {},
   "outputs": [],
   "source": [
    "DennisDF = pd.read_csv(os.path.join(os.getcwd(), \"./ACSST1Y2021.S1501-2023-03-08T022240.csv\"))"
   ]
  },
  {
   "cell_type": "code",
   "execution_count": null,
   "metadata": {},
   "outputs": [],
   "source": [
    "print(DennisDF.columns)"
   ]
  },
  {
   "cell_type": "code",
   "execution_count": null,
   "metadata": {},
   "outputs": [],
   "source": [
    "# discritDF[[\"locale\",\"pct_free/reduced\",\"state\"]].groupby([\"locale\",\"pct_free/reduced\"]).count()\n",
    "discritDF.groupby([\"state\",\"pct_free/reduced\"]).count()"
   ]
  },
  {
   "attachments": {},
   "cell_type": "markdown",
   "metadata": {},
   "source": [
    "Engagement_data \n",
    "<p1>The engagement data are aggregated at school district level, and each file in the folder `engagement_data` represents data from one school district. The 4-digit file name represents `district_id` which can be used to link to district information in `district_info.csv`. The `lp_id` can be used to link to product information in `product_info.csv`.\n",
    "</p1>"
   ]
  }
 ],
 "metadata": {
  "kernelspec": {
   "display_name": "eecs4422",
   "language": "python",
   "name": "python3"
  },
  "language_info": {
   "codemirror_mode": {
    "name": "ipython",
    "version": 3
   },
   "file_extension": ".py",
   "mimetype": "text/x-python",
   "name": "python",
   "nbconvert_exporter": "python",
   "pygments_lexer": "ipython3",
   "version": "3.9.12"
  },
  "orig_nbformat": 4,
  "vscode": {
   "interpreter": {
    "hash": "68fa06b5255abbf257e8acaf5445d712ea043d54d93448153e4655cc7522b0b9"
   }
  }
 },
 "nbformat": 4,
 "nbformat_minor": 2
}
